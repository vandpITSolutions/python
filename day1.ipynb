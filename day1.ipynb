{
 "cells": [
  {
   "cell_type": "markdown",
   "id": "26706d94",
   "metadata": {},
   "source": [
    "🐍 Day 1: Introduction to Python\n",
    "1. What is Python?\n",
    "A high-level, beginner-friendly programming language.\n",
    "Created by Guido van Rossum in 1991.\n",
    "Widely used in:\n",
    "Web development\n",
    "Data science\n",
    "Machine learning\n",
    "Automation\n",
    "Scripting\n",
    "Game development"
   ]
  },
  {
   "cell_type": "code",
   "execution_count": 1,
   "id": "3719c1a1",
   "metadata": {},
   "outputs": [
    {
     "name": "stdout",
     "output_type": "stream",
     "text": [
      "Hello, Python!\n",
      "10 3.14 Abhay True\n"
     ]
    }
   ],
   "source": [
    "print(\"Hello, Python!\")\n",
    "# numbers\n",
    "x = 10\n",
    "pi = 3.14\n",
    "\n",
    "# string\n",
    "name = \"Abhay\"\n",
    "\n",
    "# boolean\n",
    "is_coding = True\n",
    "\n",
    "print(x, pi, name, is_coding)\n"
   ]
  },
  {
   "cell_type": "code",
   "execution_count": 2,
   "id": "c75633c4",
   "metadata": {},
   "outputs": [],
   "source": [
    "x = 5         # integer\n",
    "name = \"Abhay\"  # string\n",
    "pi = 3.14     # float\n",
    "is_coding = True  # boolean\n"
   ]
  },
  {
   "cell_type": "markdown",
   "id": "4c9e1f60",
   "metadata": {},
   "source": [
    "🔹 Variables in Python\n",
    "\n",
    "A variable is like a box that stores a value.\n",
    "\n",
    "Rules for variables:\n",
    "\n",
    "✅ Start with a letter or underscore (_name, age, user1)\n",
    "✅ Can include numbers, but not at the beginning (name1 is okay, 1name is not)\n",
    "✅ Case-sensitive (Age and age are different)\n",
    "✅ Should be meaningful (score, not x1y2z3)"
   ]
  },
  {
   "cell_type": "code",
   "execution_count": 3,
   "id": "5db41983",
   "metadata": {},
   "outputs": [],
   "source": [
    "a = 10        # int\n",
    "b = 3.14      # float\n",
    "c = 2 + 3j    # complex\n"
   ]
  },
  {
   "cell_type": "markdown",
   "id": "0bb208b1",
   "metadata": {},
   "source": [
    "1. Numbers\n",
    "\n",
    "int → whole numbers (10, -5, 1000)\n",
    "\n",
    "float → decimal numbers (3.14, -0.5)\n",
    "\n",
    "complex → imaginary numbers (2 + 3j)"
   ]
  },
  {
   "cell_type": "code",
   "execution_count": 4,
   "id": "430f55e0",
   "metadata": {},
   "outputs": [],
   "source": [
    "greeting = \"Hello\"\n",
    "language = 'Python'\n"
   ]
  },
  {
   "cell_type": "code",
   "execution_count": 5,
   "id": "e67b3894",
   "metadata": {},
   "outputs": [
    {
     "name": "stdout",
     "output_type": "stream",
     "text": [
      "Hello Python\n"
     ]
    }
   ],
   "source": [
    "full = greeting + \" \" + language\n",
    "print(full)   # Hello Python\n"
   ]
  },
  {
   "cell_type": "code",
   "execution_count": 6,
   "id": "1fdd2a67",
   "metadata": {},
   "outputs": [],
   "source": [
    "is_active = True\n",
    "is_sleeping = False\n"
   ]
  },
  {
   "cell_type": "code",
   "execution_count": 7,
   "id": "458c5cd1",
   "metadata": {},
   "outputs": [
    {
     "name": "stdout",
     "output_type": "stream",
     "text": [
      "apple\n"
     ]
    }
   ],
   "source": [
    "fruits = [\"apple\", \"banana\", \"cherry\"]\n",
    "print(fruits[0])   # apple\n"
   ]
  },
  {
   "cell_type": "code",
   "execution_count": 8,
   "id": "3752cc91",
   "metadata": {},
   "outputs": [],
   "source": [
    "colors = (\"red\", \"green\", \"blue\")\n"
   ]
  },
  {
   "cell_type": "code",
   "execution_count": 9,
   "id": "8c741d4e",
   "metadata": {},
   "outputs": [
    {
     "name": "stdout",
     "output_type": "stream",
     "text": [
      "{1, 2, 3}\n"
     ]
    }
   ],
   "source": [
    "unique_nums = {1, 2, 3, 3, 2}\n",
    "print(unique_nums)   # {1, 2, 3}\n"
   ]
  },
  {
   "cell_type": "code",
   "execution_count": 10,
   "id": "d6abdbbd",
   "metadata": {},
   "outputs": [
    {
     "name": "stdout",
     "output_type": "stream",
     "text": [
      "Abhay\n"
     ]
    }
   ],
   "source": [
    "student = {\n",
    "    \"name\": \"Abhay\",\n",
    "    \"age\": 20,\n",
    "    \"course\": \"Python\"\n",
    "}\n",
    "print(student[\"name\"])   # Abhay\n"
   ]
  },
  {
   "cell_type": "code",
   "execution_count": 11,
   "id": "fb98fcc3",
   "metadata": {},
   "outputs": [
    {
     "name": "stdout",
     "output_type": "stream",
     "text": [
      "13\n",
      "7\n",
      "30\n",
      "3.3333333333333335\n",
      "3\n",
      "1\n",
      "1000\n"
     ]
    }
   ],
   "source": [
    "x = 10\n",
    "y = 3\n",
    "\n",
    "print(x + y)   # 13 (addition)\n",
    "print(x - y)   # 7  (subtraction)\n",
    "print(x * y)   # 30 (multiplication)\n",
    "print(x / y)   # 3.333... (division)\n",
    "print(x // y)  # 3 (floor division, removes decimal)\n",
    "print(x % y)   # 1 (modulus, remainder)\n",
    "print(x ** y)  # 1000 (power: 10^3)\n"
   ]
  },
  {
   "cell_type": "code",
   "execution_count": 12,
   "id": "a326b844",
   "metadata": {},
   "outputs": [
    {
     "name": "stdout",
     "output_type": "stream",
     "text": [
      "False\n",
      "True\n",
      "False\n",
      "True\n",
      "False\n",
      "True\n"
     ]
    }
   ],
   "source": [
    "a = 5\n",
    "b = 10\n",
    "\n",
    "print(a == b)  # False\n",
    "print(a != b)  # True\n",
    "print(a > b)   # False\n",
    "print(a < b)   # True\n",
    "print(a >= b)  # False\n",
    "print(a <= b)  # True\n"
   ]
  },
  {
   "cell_type": "code",
   "execution_count": 13,
   "id": "f4e123a8",
   "metadata": {},
   "outputs": [
    {
     "name": "stdout",
     "output_type": "stream",
     "text": [
      "False\n",
      "True\n",
      "False\n"
     ]
    }
   ],
   "source": [
    "x = True\n",
    "y = False\n",
    "\n",
    "print(x and y)   # False\n",
    "print(x or y)    # True\n",
    "print(not x)     # False\n"
   ]
  },
  {
   "cell_type": "code",
   "execution_count": 14,
   "id": "26126c0a",
   "metadata": {},
   "outputs": [],
   "source": [
    "x = 10\n",
    "x += 5   # x = x + 5\n",
    "x -= 2   # x = x - 2\n",
    "x *= 3   # x = x * 3\n",
    "x /= 2   # x = x / 2\n"
   ]
  },
  {
   "cell_type": "code",
   "execution_count": 15,
   "id": "8f098cb5",
   "metadata": {},
   "outputs": [
    {
     "name": "stdout",
     "output_type": "stream",
     "text": [
      "True\n",
      "True\n"
     ]
    }
   ],
   "source": [
    "fruits = [\"apple\", \"banana\", \"cherry\"]\n",
    "\n",
    "print(\"apple\" in fruits)      # True\n",
    "print(\"mango\" not in fruits)  # True\n"
   ]
  },
  {
   "cell_type": "code",
   "execution_count": 16,
   "id": "54dd9dc3",
   "metadata": {},
   "outputs": [
    {
     "name": "stdout",
     "output_type": "stream",
     "text": [
      "False\n",
      "True\n"
     ]
    }
   ],
   "source": [
    "a = [1, 2, 3]\n",
    "b = [1, 2, 3]\n",
    "\n",
    "print(a is b)      # False (different memory location)\n",
    "print(a == b)      # True  (values are equal)\n"
   ]
  },
  {
   "cell_type": "code",
   "execution_count": 17,
   "id": "cf39a7be",
   "metadata": {},
   "outputs": [
    {
     "name": "stdout",
     "output_type": "stream",
     "text": [
      "My name is Abhay and I am 20 years old.\n",
      "My name is Abhay and I am 20 years old.\n"
     ]
    }
   ],
   "source": [
    "name = \"Abhay\"\n",
    "age = 20\n",
    "\n",
    "print(\"My name is\", name, \"and I am\", age, \"years old.\")\n",
    "print(f\"My name is {name} and I am {age} years old.\")  # f-string\n"
   ]
  },
  {
   "cell_type": "code",
   "execution_count": 18,
   "id": "eba35f5c",
   "metadata": {},
   "outputs": [
    {
     "name": "stdout",
     "output_type": "stream",
     "text": [
      "Hello 25 you are 26 years old\n"
     ]
    }
   ],
   "source": [
    "name = input(\"Enter your name: \")\n",
    "age = input(\"Enter your age: \")\n",
    "\n",
    "print(\"Hello\", name, \"you are\", age, \"years old\")\n"
   ]
  },
  {
   "cell_type": "code",
   "execution_count": 19,
   "id": "144dc186",
   "metadata": {},
   "outputs": [],
   "source": [
    "age = int(input(\"Enter your age: \"))  # string → int\n",
    "pi = float(input(\"Enter value of pi: \"))  # string → float\n"
   ]
  },
  {
   "cell_type": "code",
   "execution_count": 20,
   "id": "fdeb76c8",
   "metadata": {},
   "outputs": [
    {
     "name": "stdout",
     "output_type": "stream",
     "text": [
      "You are an adult.\n"
     ]
    }
   ],
   "source": [
    "age = 18\n",
    "\n",
    "if age >= 18:\n",
    "    print(\"You are an adult.\")\n"
   ]
  },
  {
   "cell_type": "code",
   "execution_count": 21,
   "id": "28e0f1b7",
   "metadata": {},
   "outputs": [
    {
     "name": "stdout",
     "output_type": "stream",
     "text": [
      "You are a minor.\n"
     ]
    }
   ],
   "source": [
    "age = 15\n",
    "\n",
    "if age >= 18:\n",
    "    print(\"You are an adult.\")\n",
    "else:\n",
    "    print(\"You are a minor.\")\n"
   ]
  },
  {
   "cell_type": "code",
   "execution_count": 22,
   "id": "c26bc389",
   "metadata": {},
   "outputs": [
    {
     "name": "stdout",
     "output_type": "stream",
     "text": [
      "Grade: B\n"
     ]
    }
   ],
   "source": [
    "marks = 85\n",
    "\n",
    "if marks >= 90:\n",
    "    print(\"Grade: A\")\n",
    "elif marks >= 75:\n",
    "    print(\"Grade: B\")\n",
    "elif marks >= 50:\n",
    "    print(\"Grade: C\")\n",
    "else:\n",
    "    print(\"Grade: F\")\n"
   ]
  },
  {
   "cell_type": "code",
   "execution_count": 23,
   "id": "da50eae4",
   "metadata": {},
   "outputs": [
    {
     "name": "stdout",
     "output_type": "stream",
     "text": [
      "You can enter.\n"
     ]
    }
   ],
   "source": [
    "age = 20\n",
    "has_id = True\n",
    "\n",
    "if age >= 18:\n",
    "    if has_id:\n",
    "        print(\"You can enter.\")\n",
    "    else:\n",
    "        print(\"You need an ID.\")\n",
    "else:\n",
    "    print(\"You are underage.\")\n"
   ]
  },
  {
   "cell_type": "code",
   "execution_count": 24,
   "id": "9b10afde",
   "metadata": {},
   "outputs": [
    {
     "name": "stdout",
     "output_type": "stream",
     "text": [
      "x is greater than 5\n"
     ]
    }
   ],
   "source": [
    "x = 10\n",
    "if x > 5: print(\"x is greater than 5\")\n"
   ]
  },
  {
   "cell_type": "code",
   "execution_count": 25,
   "id": "8ceeaefd",
   "metadata": {},
   "outputs": [
    {
     "name": "stdout",
     "output_type": "stream",
     "text": [
      "Yes\n"
     ]
    }
   ],
   "source": [
    "print(\"Yes\") if x > 5 else print(\"No\")\n"
   ]
  },
  {
   "cell_type": "code",
   "execution_count": 26,
   "id": "84e9cfd3",
   "metadata": {},
   "outputs": [
    {
     "name": "stdout",
     "output_type": "stream",
     "text": [
      "apple\n",
      "banana\n",
      "cherry\n"
     ]
    }
   ],
   "source": [
    "fruits = [\"apple\", \"banana\", \"cherry\"]\n",
    "\n",
    "for fruit in fruits:\n",
    "    print(fruit)\n"
   ]
  },
  {
   "cell_type": "code",
   "execution_count": 27,
   "id": "4b6082a6",
   "metadata": {},
   "outputs": [
    {
     "name": "stdout",
     "output_type": "stream",
     "text": [
      "0\n",
      "1\n",
      "2\n",
      "3\n",
      "4\n",
      "2\n",
      "3\n",
      "4\n",
      "5\n",
      "6\n",
      "0\n",
      "2\n",
      "4\n",
      "6\n",
      "8\n",
      "10\n"
     ]
    }
   ],
   "source": [
    "# 0 to 4\n",
    "for i in range(5):\n",
    "    print(i)\n",
    "\n",
    "# 2 to 6\n",
    "for i in range(2, 7):\n",
    "    print(i)\n",
    "\n",
    "# 0 to 10 with step 2\n",
    "for i in range(0, 11, 2):\n",
    "    print(i)\n"
   ]
  },
  {
   "cell_type": "code",
   "execution_count": 28,
   "id": "7b575a87",
   "metadata": {},
   "outputs": [
    {
     "name": "stdout",
     "output_type": "stream",
     "text": [
      "0\n",
      "1\n",
      "2\n",
      "3\n",
      "4\n"
     ]
    }
   ],
   "source": [
    "i = 0\n",
    "while i < 5:\n",
    "    print(i)\n",
    "    i += 1\n"
   ]
  },
  {
   "cell_type": "code",
   "execution_count": 29,
   "id": "5e9a92ed",
   "metadata": {},
   "outputs": [
    {
     "name": "stdout",
     "output_type": "stream",
     "text": [
      "0\n",
      "1\n",
      "2\n",
      "3\n",
      "4\n"
     ]
    }
   ],
   "source": [
    "i = 0\n",
    "while i < 5:\n",
    "    print(i)\n",
    "    i += 1\n"
   ]
  },
  {
   "cell_type": "code",
   "execution_count": 30,
   "id": "8b4c04c3",
   "metadata": {},
   "outputs": [
    {
     "name": "stdout",
     "output_type": "stream",
     "text": [
      "0\n",
      "1\n",
      "2\n"
     ]
    }
   ],
   "source": [
    "for i in range(5):\n",
    "    if i == 3:\n",
    "        break\n",
    "    print(i)\n",
    "# Output: 0 1 2\n"
   ]
  },
  {
   "cell_type": "code",
   "execution_count": 31,
   "id": "dc1c8d75",
   "metadata": {},
   "outputs": [
    {
     "name": "stdout",
     "output_type": "stream",
     "text": [
      "0\n",
      "1\n",
      "2\n",
      "4\n"
     ]
    }
   ],
   "source": [
    "for i in range(5):\n",
    "    if i == 3:\n",
    "        continue\n",
    "    print(i)\n",
    "# Output: 0 1 2 4\n"
   ]
  },
  {
   "cell_type": "code",
   "execution_count": 32,
   "id": "b3ddb216",
   "metadata": {},
   "outputs": [
    {
     "name": "stdout",
     "output_type": "stream",
     "text": [
      "0\n",
      "1\n",
      "2\n",
      "3\n",
      "4\n"
     ]
    }
   ],
   "source": [
    "for i in range(5):\n",
    "    if i == 3:\n",
    "        pass\n",
    "    print(i)\n"
   ]
  },
  {
   "cell_type": "code",
   "execution_count": 33,
   "id": "c6b7b88f",
   "metadata": {},
   "outputs": [
    {
     "name": "stdout",
     "output_type": "stream",
     "text": [
      "1 1\n",
      "1 2\n",
      "1 3\n",
      "2 1\n",
      "2 2\n",
      "2 3\n",
      "3 1\n",
      "3 2\n",
      "3 3\n"
     ]
    }
   ],
   "source": [
    "for i in range(1, 4):\n",
    "    for j in range(1, 4):\n",
    "        print(i, j)\n"
   ]
  }
 ],
 "metadata": {
  "kernelspec": {
   "display_name": "Python 3",
   "language": "python",
   "name": "python3"
  },
  "language_info": {
   "codemirror_mode": {
    "name": "ipython",
    "version": 3
   },
   "file_extension": ".py",
   "mimetype": "text/x-python",
   "name": "python",
   "nbconvert_exporter": "python",
   "pygments_lexer": "ipython3",
   "version": "3.13.7"
  }
 },
 "nbformat": 4,
 "nbformat_minor": 5
}
