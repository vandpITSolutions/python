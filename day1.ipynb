{
 "cells": [
  {
   "cell_type": "markdown",
   "id": "26706d94",
   "metadata": {},
   "source": [
    "🐍 Day 1: Introduction to Python\n",
    "1. What is Python?\n",
    "A high-level, beginner-friendly programming language.\n",
    "Created by Guido van Rossum in 1991.\n",
    "Widely used in:\n",
    "Web development\n",
    "Data science\n",
    "Machine learning\n",
    "Automation\n",
    "Scripting\n",
    "Game development"
   ]
  },
  {
   "cell_type": "code",
   "execution_count": 8,
   "id": "3719c1a1",
   "metadata": {},
   "outputs": [
    {
     "name": "stdout",
     "output_type": "stream",
     "text": [
      "Hello, Python!\n",
      "10 3.14 Abhay True\n"
     ]
    }
   ],
   "source": [
    "print(\"Hello, Python!\")\n",
    "# numbers\n",
    "x = 10\n",
    "pi = 3.14\n",
    "\n",
    "# string\n",
    "name = \"Abhay\"\n",
    "\n",
    "# boolean\n",
    "is_coding = True\n",
    "\n",
    "print(x, pi, name, is_coding)\n"
   ]
  },
  {
   "cell_type": "code",
   "execution_count": 9,
   "id": "c75633c4",
   "metadata": {},
   "outputs": [],
   "source": [
    "x = 5         # integer\n",
    "name = \"Abhay\"  # string\n",
    "pi = 3.14     # float\n",
    "is_coding = True  # boolean\n"
   ]
  },
  {
   "cell_type": "markdown",
   "id": "4c9e1f60",
   "metadata": {},
   "source": [
    "🔹 Variables in Python\n",
    "\n",
    "A variable is like a box that stores a value.\n",
    "\n",
    "Rules for variables:\n",
    "\n",
    "✅ Start with a letter or underscore (_name, age, user1)\n",
    "✅ Can include numbers, but not at the beginning (name1 is okay, 1name is not)\n",
    "✅ Case-sensitive (Age and age are different)\n",
    "✅ Should be meaningful (score, not x1y2z3)"
   ]
  },
  {
   "cell_type": "code",
   "execution_count": 10,
   "id": "5db41983",
   "metadata": {},
   "outputs": [],
   "source": [
    "a = 10        # int\n",
    "b = 3.14      # float\n",
    "c = 2 + 3j    # complex\n"
   ]
  },
  {
   "cell_type": "markdown",
   "id": "0bb208b1",
   "metadata": {},
   "source": [
    "1. Numbers\n",
    "\n",
    "int → whole numbers (10, -5, 1000)\n",
    "\n",
    "float → decimal numbers (3.14, -0.5)\n",
    "\n",
    "complex → imaginary numbers (2 + 3j)"
   ]
  },
  {
   "cell_type": "code",
   "execution_count": 11,
   "id": "430f55e0",
   "metadata": {},
   "outputs": [],
   "source": [
    "greeting = \"Hello\"\n",
    "language = 'Python'\n"
   ]
  },
  {
   "cell_type": "code",
   "execution_count": 12,
   "id": "e67b3894",
   "metadata": {},
   "outputs": [
    {
     "name": "stdout",
     "output_type": "stream",
     "text": [
      "Hello Python\n"
     ]
    }
   ],
   "source": [
    "full = greeting + \" \" + language\n",
    "print(full)   # Hello Python\n"
   ]
  },
  {
   "cell_type": "code",
   "execution_count": 13,
   "id": "1fdd2a67",
   "metadata": {},
   "outputs": [],
   "source": [
    "is_active = True\n",
    "is_sleeping = False\n"
   ]
  },
  {
   "cell_type": "code",
   "execution_count": 14,
   "id": "458c5cd1",
   "metadata": {},
   "outputs": [
    {
     "name": "stdout",
     "output_type": "stream",
     "text": [
      "apple\n"
     ]
    }
   ],
   "source": [
    "fruits = [\"apple\", \"banana\", \"cherry\"]\n",
    "print(fruits[0])   # apple\n"
   ]
  },
  {
   "cell_type": "code",
   "execution_count": 15,
   "id": "3752cc91",
   "metadata": {},
   "outputs": [],
   "source": [
    "colors = (\"red\", \"green\", \"blue\")\n"
   ]
  },
  {
   "cell_type": "code",
   "execution_count": 16,
   "id": "8c741d4e",
   "metadata": {},
   "outputs": [
    {
     "name": "stdout",
     "output_type": "stream",
     "text": [
      "{1, 2, 3}\n"
     ]
    }
   ],
   "source": [
    "unique_nums = {1, 2, 3, 3, 2}\n",
    "print(unique_nums)   # {1, 2, 3}\n"
   ]
  },
  {
   "cell_type": "code",
   "execution_count": 17,
   "id": "d6abdbbd",
   "metadata": {},
   "outputs": [
    {
     "name": "stdout",
     "output_type": "stream",
     "text": [
      "Abhay\n"
     ]
    }
   ],
   "source": [
    "student = {\n",
    "    \"name\": \"Abhay\",\n",
    "    \"age\": 20,\n",
    "    \"course\": \"Python\"\n",
    "}\n",
    "print(student[\"name\"])   # Abhay\n"
   ]
  }
 ],
 "metadata": {
  "kernelspec": {
   "display_name": "Python 3",
   "language": "python",
   "name": "python3"
  },
  "language_info": {
   "codemirror_mode": {
    "name": "ipython",
    "version": 3
   },
   "file_extension": ".py",
   "mimetype": "text/x-python",
   "name": "python",
   "nbconvert_exporter": "python",
   "pygments_lexer": "ipython3",
   "version": "3.13.7"
  }
 },
 "nbformat": 4,
 "nbformat_minor": 5
}
